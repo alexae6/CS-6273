{
 "cells": [
  {
   "cell_type": "code",
   "execution_count": 5,
   "metadata": {},
   "outputs": [],
   "source": [
    "import numpy as np"
   ]
  },
  {
   "cell_type": "code",
   "execution_count": 8,
   "metadata": {},
   "outputs": [
    {
     "name": "stdout",
     "output_type": "stream",
     "text": [
      "This is the newest 2\n"
     ]
    },
    {
     "ename": "NameError",
     "evalue": "name 'FV' is not defined",
     "output_type": "error",
     "traceback": [
      "\u001b[1;31m---------------------------------------------------------------------------\u001b[0m",
      "\u001b[1;31mNameError\u001b[0m                                 Traceback (most recent call last)",
      "\u001b[1;32mc:\\Users\\alexa\\Documents\\CS 6273\\VRP_FinalProject\\CS-6273\\Initial.ipynb Cell 2\u001b[0m line \u001b[0;36m2\n\u001b[0;32m      <a href='vscode-notebook-cell:/c%3A/Users/alexa/Documents/CS%206273/VRP_FinalProject/CS-6273/Initial.ipynb#W1sZmlsZQ%3D%3D?line=0'>1</a>\u001b[0m \u001b[39mprint\u001b[39m(\u001b[39m\"\u001b[39m\u001b[39mThis is the newest 2\u001b[39m\u001b[39m\"\u001b[39m)\n\u001b[1;32m----> <a href='vscode-notebook-cell:/c%3A/Users/alexa/Documents/CS%206273/VRP_FinalProject/CS-6273/Initial.ipynb#W1sZmlsZQ%3D%3D?line=1'>2</a>\u001b[0m FV\u001b[39m.\u001b[39mwr;vbE\n",
      "\u001b[1;31mNameError\u001b[0m: name 'FV' is not defined"
     ]
    }
   ],
   "source": [
    "\n",
    "print(\"This is the newest 2\")\n",
    "FV.wr;vbE"
   ]
  }
 ],
 "metadata": {
  "kernelspec": {
   "display_name": "CS6273",
   "language": "python",
   "name": "python3"
  },
  "language_info": {
   "codemirror_mode": {
    "name": "ipython",
    "version": 3
   },
   "file_extension": ".py",
   "mimetype": "text/x-python",
   "name": "python",
   "nbconvert_exporter": "python",
   "pygments_lexer": "ipython3",
   "version": "3.11.0"
  }
 },
 "nbformat": 4,
 "nbformat_minor": 2
}
