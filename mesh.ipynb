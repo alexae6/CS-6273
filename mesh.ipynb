{
 "cells": [
  {
   "cell_type": "code",
   "execution_count": 2,
   "metadata": {},
   "outputs": [],
   "source": [
    "import numpy as np\n",
    "import matplotlib.pyplot as plt\n",
    "import pandas as pd"
   ]
  },
  {
   "cell_type": "code",
   "execution_count": 21,
   "metadata": {},
   "outputs": [
    {
     "data": {
      "text/plain": [
       "([<matplotlib.axis.YTick at 0x25839cba650>,\n",
       "  <matplotlib.axis.YTick at 0x25839d4da50>,\n",
       "  <matplotlib.axis.YTick at 0x258373e5950>,\n",
       "  <matplotlib.axis.YTick at 0x25839bf5f50>,\n",
       "  <matplotlib.axis.YTick at 0x25839bfc410>,\n",
       "  <matplotlib.axis.YTick at 0x25839bf5490>,\n",
       "  <matplotlib.axis.YTick at 0x25839bff050>,\n",
       "  <matplotlib.axis.YTick at 0x25839c09490>,\n",
       "  <matplotlib.axis.YTick at 0x25839c0b710>,\n",
       "  <matplotlib.axis.YTick at 0x25839c15910>],\n",
       " [Text(0, 0, '0'),\n",
       "  Text(0, 2, '2'),\n",
       "  Text(0, 4, '4'),\n",
       "  Text(0, 6, '6'),\n",
       "  Text(0, 8, '8'),\n",
       "  Text(0, 10, '10'),\n",
       "  Text(0, 12, '12'),\n",
       "  Text(0, 14, '14'),\n",
       "  Text(0, 16, '16'),\n",
       "  Text(0, 18, '18')])"
      ]
     },
     "execution_count": 21,
     "metadata": {},
     "output_type": "execute_result"
    },
    {
     "data": {
      "image/png": "[encoded data removed]",
      "text/plain": [
       "<Figure size 640x480 with 1 Axes>"
      ]
     },
     "metadata": {},
     "output_type": "display_data"
    }
   ],
   "source": [
    "# Mesh\n",
    "xc = np.arange(0,20,2)\n",
    "yc = np.arange(0,20,2)\n",
    "xc,yc = np.meshgrid(xc,yc)\n",
    "\n",
    "plt.scatter(xc,yc)\n",
    "plt.xticks(np.arange(0,20,2)) \n",
    "plt.yticks(np.arange(0,20,2)) "
   ]
  },
  {
   "cell_type": "code",
   "execution_count": 5,
   "metadata": {},
   "outputs": [],
   "source": [
    "n = input('Enter number of vehicles:' )\n",
    "n = int(n)\n",
    "coors = []\n",
    "for i in range(n):\n",
    "    c = input(f'Enter Coordinate for Car {i+1}:' )\n",
    "    coors.append(c)\n",
    "V = [list(map(int, pair.split(','))) for pair in coors]\n",
    "\n",
    "n = input('Enter number of vehicles:' )\n",
    "n = int(n)\n",
    "coors = []\n",
    "for i in range(n):\n",
    "    c = input(f'Enter Coordinate for Delivery {i+1}:' )\n",
    "    coors.append(c)\n",
    "D = [list(map(int, pair.split(','))) for pair in coors]\n"
   ]
  },
  {
   "cell_type": "code",
   "execution_count": 11,
   "metadata": {},
   "outputs": [],
   "source": [
    "def bresenham_line(x0, y0, x1, y1):\n",
    "    dx = abs(x1 - x0)\n",
    "    dy = abs(y1 - y0)\n",
    "    steep = dy > dx\n",
    "\n",
    "    if steep:\n",
    "        x0, y0 = y0, x0\n",
    "        x1, y1 = y1, x1\n",
    "\n",
    "    if x0 > x1:\n",
    "        x0, x1 = x1, x0\n",
    "        y0, y1 = y1, y0\n",
    "\n",
    "    dx = x1 - x0\n",
    "    dy = abs(y1 - y0)\n",
    "    error = dx / 2\n",
    "    y_step = 1 if y0 < y1 else -1\n",
    "\n",
    "    y = y0\n",
    "    points = []\n",
    "\n",
    "    for x in range(x0, x1 + 1):\n",
    "        coord = (y, x) if steep else (x, y)\n",
    "        points.append(coord)\n",
    "        error -= dy\n",
    "        if error < 0:\n",
    "            y += y_step\n",
    "            error += dx\n",
    "\n",
    "    return points\n",
    "\n",
    "# Example points\n",
    "start_point = (1, 1)\n",
    "end_point = (7, 4)\n",
    "\n",
    "# Compute the direct path\n",
    "direct_path = bresenham_line(start_point[0], start_point[1], end_point[0], end_point[1])\n",
    "\n",
    "direct_path = np.array(direct_path)\n"
   ]
  },
  {
   "cell_type": "code",
   "execution_count": 8,
   "metadata": {},
   "outputs": [],
   "source": [
    "def is_valid(x, y, grid):\n",
    "    # Check if the given position (x, y) is within the grid boundaries\n",
    "    return 0 <= x < len(grid) and 0 <= y < len(grid[0])\n",
    "\n",
    "def dfs_paths(grid, start, end, path=[]):\n",
    "    x, y = start\n",
    "    path = path + [(x, y)]\n",
    "\n",
    "    if start == end:\n",
    "        return [path]\n",
    "\n",
    "    paths = []\n",
    "\n",
    "    for neighbor in [(x+1, y), (x-1, y), (x, y+1), (x, y-1)]:\n",
    "        nx, ny = neighbor\n",
    "        if is_valid(nx, ny, grid) and neighbor not in path:\n",
    "            new_paths = dfs_paths(grid, neighbor, end, path)\n",
    "            paths.extend(new_paths)\n",
    "\n",
    "    return paths\n",
    "\n",
    "# Example mesh grid (0 represents an open cell, 1 represents an obstacle)\n",
    "grid = np.zeros((5, 5), dtype=int)\n",
    "\n",
    "start_point = (2, 2)\n",
    "end_point = (4, 4)\n",
    "\n",
    "paths = dfs_paths(grid, start_point, end_point)"
   ]
  }
 ],
 "metadata": {
  "kernelspec": {
   "display_name": "venv",
   "language": "python",
   "name": "python3"
  },
  "language_info": {
   "codemirror_mode": {
    "name": "ipython",
    "version": 3
   },
   "file_extension": ".py",
   "mimetype": "text/x-python",
   "name": "python",
   "nbconvert_exporter": "python",
   "pygments_lexer": "ipython3",
   "version": "3.11.0"
  }
 },
 "nbformat": 4,
 "nbformat_minor": 2
}
